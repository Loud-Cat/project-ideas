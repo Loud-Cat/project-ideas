{
 "cells": [
  {
   "cell_type": "markdown",
   "source": [
    "# Basic Linear Regression Model with Scikit-Learn"
   ],
   "metadata": {}
  },
  {
   "cell_type": "code",
   "execution_count": 1,
   "source": [
    "# Import libraries for data cleaning, exploration, and visualisation\n",
    "import pandas as pd\n",
    "import numpy as np\n",
    "import seaborn as sns\n",
    "import matplotlib.pyplot as plt"
   ],
   "outputs": [],
   "metadata": {}
  },
  {
   "cell_type": "code",
   "execution_count": 2,
   "source": [
    "# I have placed the datasets in a folder named \"datasets\"\n",
    "# Read the training data for the model\n",
    "train_df = pd.read_csv(\"datasets/train.csv\")\n",
    "\n",
    "# Look at the first 5 rows to see if the file has been read correctly\n",
    "train_df.head()"
   ],
   "outputs": [
    {
     "output_type": "execute_result",
     "data": {
      "text/plain": [
       "      x          y\n",
       "0  24.0  21.549452\n",
       "1  50.0  47.464463\n",
       "2  15.0  17.218656\n",
       "3  38.0  36.586398\n",
       "4  87.0  87.288984"
      ],
      "text/html": [
       "<div>\n",
       "<style scoped>\n",
       "    .dataframe tbody tr th:only-of-type {\n",
       "        vertical-align: middle;\n",
       "    }\n",
       "\n",
       "    .dataframe tbody tr th {\n",
       "        vertical-align: top;\n",
       "    }\n",
       "\n",
       "    .dataframe thead th {\n",
       "        text-align: right;\n",
       "    }\n",
       "</style>\n",
       "<table border=\"1\" class=\"dataframe\">\n",
       "  <thead>\n",
       "    <tr style=\"text-align: right;\">\n",
       "      <th></th>\n",
       "      <th>x</th>\n",
       "      <th>y</th>\n",
       "    </tr>\n",
       "  </thead>\n",
       "  <tbody>\n",
       "    <tr>\n",
       "      <th>0</th>\n",
       "      <td>24.0</td>\n",
       "      <td>21.549452</td>\n",
       "    </tr>\n",
       "    <tr>\n",
       "      <th>1</th>\n",
       "      <td>50.0</td>\n",
       "      <td>47.464463</td>\n",
       "    </tr>\n",
       "    <tr>\n",
       "      <th>2</th>\n",
       "      <td>15.0</td>\n",
       "      <td>17.218656</td>\n",
       "    </tr>\n",
       "    <tr>\n",
       "      <th>3</th>\n",
       "      <td>38.0</td>\n",
       "      <td>36.586398</td>\n",
       "    </tr>\n",
       "    <tr>\n",
       "      <th>4</th>\n",
       "      <td>87.0</td>\n",
       "      <td>87.288984</td>\n",
       "    </tr>\n",
       "  </tbody>\n",
       "</table>\n",
       "</div>"
      ]
     },
     "metadata": {},
     "execution_count": 2
    }
   ],
   "metadata": {}
  },
  {
   "cell_type": "code",
   "execution_count": 3,
   "source": [
    "# Read the testing data for the model\n",
    "test_df = pd.read_csv(\"datasets/test.csv\")\n",
    "\n",
    "# Look at the first 5 rows to see if the file has been read correctly\n",
    "test_df.head()"
   ],
   "outputs": [
    {
     "output_type": "execute_result",
     "data": {
      "text/plain": [
       "    x          y\n",
       "0  77  79.775152\n",
       "1  21  23.177279\n",
       "2  22  25.609262\n",
       "3  20  17.857388\n",
       "4  36  41.849864"
      ],
      "text/html": [
       "<div>\n",
       "<style scoped>\n",
       "    .dataframe tbody tr th:only-of-type {\n",
       "        vertical-align: middle;\n",
       "    }\n",
       "\n",
       "    .dataframe tbody tr th {\n",
       "        vertical-align: top;\n",
       "    }\n",
       "\n",
       "    .dataframe thead th {\n",
       "        text-align: right;\n",
       "    }\n",
       "</style>\n",
       "<table border=\"1\" class=\"dataframe\">\n",
       "  <thead>\n",
       "    <tr style=\"text-align: right;\">\n",
       "      <th></th>\n",
       "      <th>x</th>\n",
       "      <th>y</th>\n",
       "    </tr>\n",
       "  </thead>\n",
       "  <tbody>\n",
       "    <tr>\n",
       "      <th>0</th>\n",
       "      <td>77</td>\n",
       "      <td>79.775152</td>\n",
       "    </tr>\n",
       "    <tr>\n",
       "      <th>1</th>\n",
       "      <td>21</td>\n",
       "      <td>23.177279</td>\n",
       "    </tr>\n",
       "    <tr>\n",
       "      <th>2</th>\n",
       "      <td>22</td>\n",
       "      <td>25.609262</td>\n",
       "    </tr>\n",
       "    <tr>\n",
       "      <th>3</th>\n",
       "      <td>20</td>\n",
       "      <td>17.857388</td>\n",
       "    </tr>\n",
       "    <tr>\n",
       "      <th>4</th>\n",
       "      <td>36</td>\n",
       "      <td>41.849864</td>\n",
       "    </tr>\n",
       "  </tbody>\n",
       "</table>\n",
       "</div>"
      ]
     },
     "metadata": {},
     "execution_count": 3
    }
   ],
   "metadata": {}
  },
  {
   "cell_type": "markdown",
   "source": [
    "## Basic Data Exploration and Data Cleaning\n",
    "### Training Data"
   ],
   "metadata": {}
  },
  {
   "cell_type": "code",
   "execution_count": 4,
   "source": [
    "# How many rows and columns do we have for the training data?\n",
    "train_df.shape"
   ],
   "outputs": [
    {
     "output_type": "execute_result",
     "data": {
      "text/plain": [
       "(700, 2)"
      ]
     },
     "metadata": {},
     "execution_count": 4
    }
   ],
   "metadata": {}
  },
  {
   "cell_type": "code",
   "execution_count": 14,
   "source": [
    "# Check that the datatypes in the df are suitable for the data\n",
    "train_df.dtypes"
   ],
   "outputs": [
    {
     "output_type": "execute_result",
     "data": {
      "text/plain": [
       "x    float64\n",
       "y    float64\n",
       "dtype: object"
      ]
     },
     "metadata": {},
     "execution_count": 14
    }
   ],
   "metadata": {}
  },
  {
   "cell_type": "code",
   "execution_count": 5,
   "source": [
    "# How many missing values do we have?\n",
    "train_df.isnull().sum()"
   ],
   "outputs": [
    {
     "output_type": "execute_result",
     "data": {
      "text/plain": [
       "x    0\n",
       "y    1\n",
       "dtype: int64"
      ]
     },
     "metadata": {},
     "execution_count": 5
    }
   ],
   "metadata": {}
  },
  {
   "cell_type": "code",
   "execution_count": 6,
   "source": [
    "# Which row has our missing value?\n",
    "train_df[train_df[\"y\"].isnull()]"
   ],
   "outputs": [
    {
     "output_type": "execute_result",
     "data": {
      "text/plain": [
       "               x   y\n",
       "213  3530.157369 NaN"
      ],
      "text/html": [
       "<div>\n",
       "<style scoped>\n",
       "    .dataframe tbody tr th:only-of-type {\n",
       "        vertical-align: middle;\n",
       "    }\n",
       "\n",
       "    .dataframe tbody tr th {\n",
       "        vertical-align: top;\n",
       "    }\n",
       "\n",
       "    .dataframe thead th {\n",
       "        text-align: right;\n",
       "    }\n",
       "</style>\n",
       "<table border=\"1\" class=\"dataframe\">\n",
       "  <thead>\n",
       "    <tr style=\"text-align: right;\">\n",
       "      <th></th>\n",
       "      <th>x</th>\n",
       "      <th>y</th>\n",
       "    </tr>\n",
       "  </thead>\n",
       "  <tbody>\n",
       "    <tr>\n",
       "      <th>213</th>\n",
       "      <td>3530.157369</td>\n",
       "      <td>NaN</td>\n",
       "    </tr>\n",
       "  </tbody>\n",
       "</table>\n",
       "</div>"
      ]
     },
     "metadata": {},
     "execution_count": 6
    }
   ],
   "metadata": {}
  },
  {
   "cell_type": "code",
   "execution_count": 7,
   "source": [
    "# Remove the missing value from the data\n",
    "train_df = train_df.dropna()"
   ],
   "outputs": [],
   "metadata": {}
  },
  {
   "cell_type": "code",
   "execution_count": 8,
   "source": [
    "# Check if there are any more missing values\n",
    "train_df.isnull().any()"
   ],
   "outputs": [
    {
     "output_type": "execute_result",
     "data": {
      "text/plain": [
       "x    False\n",
       "y    False\n",
       "dtype: bool"
      ]
     },
     "metadata": {},
     "execution_count": 8
    }
   ],
   "metadata": {}
  },
  {
   "cell_type": "code",
   "execution_count": 9,
   "source": [
    "# Use Seaborn to plot a scatter plot of the training data\n",
    "sns.scatterplot(x=\"x\", y=\"y\", data=train_df);"
   ],
   "outputs": [
    {
     "output_type": "display_data",
     "data": {
      "text/plain": [
       "<Figure size 432x288 with 1 Axes>"
      ],
      "image/png": "[encoded data removed]"
     },
     "metadata": {
      "needs_background": "light"
     }
    }
   ],
   "metadata": {}
  },
  {
   "cell_type": "markdown",
   "source": [
    "There do not seem to be any outliers (except for possibly the x value that has the highest y value), the plot seems to linear in nature, and reasonably consistent spread of data points. This means that our data is suitable for a linear regression as it satisfies the linear assumptions. "
   ],
   "metadata": {}
  },
  {
   "cell_type": "markdown",
   "source": [
    "### Testing Data"
   ],
   "metadata": {}
  },
  {
   "cell_type": "code",
   "execution_count": 11,
   "source": [
    "# How many testing values do we have compared to the training data\n",
    "test_df.shape"
   ],
   "outputs": [
    {
     "output_type": "execute_result",
     "data": {
      "text/plain": [
       "(300, 2)"
      ]
     },
     "metadata": {},
     "execution_count": 11
    }
   ],
   "metadata": {}
  },
  {
   "cell_type": "markdown",
   "source": [
    "So we originally had 700 rows in our training data (now 699) while there are 300 rows of testing data. This means that our data is roughly 70-30 which is a reasonable split."
   ],
   "metadata": {}
  },
  {
   "cell_type": "code",
   "execution_count": 51,
   "source": [
    "# Summary statistics of the test data\n",
    "test_df.describe()"
   ],
   "outputs": [
    {
     "output_type": "execute_result",
     "data": {
      "text/plain": [
       "                x           y\n",
       "count  300.000000  300.000000\n",
       "mean    50.936667   51.205051\n",
       "std     28.504286   29.071481\n",
       "min      0.000000   -3.467884\n",
       "25%     27.000000   25.676502\n",
       "50%     53.000000   52.170557\n",
       "75%     73.000000   74.303007\n",
       "max    100.000000  105.591837"
      ],
      "text/html": [
       "<div>\n",
       "<style scoped>\n",
       "    .dataframe tbody tr th:only-of-type {\n",
       "        vertical-align: middle;\n",
       "    }\n",
       "\n",
       "    .dataframe tbody tr th {\n",
       "        vertical-align: top;\n",
       "    }\n",
       "\n",
       "    .dataframe thead th {\n",
       "        text-align: right;\n",
       "    }\n",
       "</style>\n",
       "<table border=\"1\" class=\"dataframe\">\n",
       "  <thead>\n",
       "    <tr style=\"text-align: right;\">\n",
       "      <th></th>\n",
       "      <th>x</th>\n",
       "      <th>y</th>\n",
       "    </tr>\n",
       "  </thead>\n",
       "  <tbody>\n",
       "    <tr>\n",
       "      <th>count</th>\n",
       "      <td>300.000000</td>\n",
       "      <td>300.000000</td>\n",
       "    </tr>\n",
       "    <tr>\n",
       "      <th>mean</th>\n",
       "      <td>50.936667</td>\n",
       "      <td>51.205051</td>\n",
       "    </tr>\n",
       "    <tr>\n",
       "      <th>std</th>\n",
       "      <td>28.504286</td>\n",
       "      <td>29.071481</td>\n",
       "    </tr>\n",
       "    <tr>\n",
       "      <th>min</th>\n",
       "      <td>0.000000</td>\n",
       "      <td>-3.467884</td>\n",
       "    </tr>\n",
       "    <tr>\n",
       "      <th>25%</th>\n",
       "      <td>27.000000</td>\n",
       "      <td>25.676502</td>\n",
       "    </tr>\n",
       "    <tr>\n",
       "      <th>50%</th>\n",
       "      <td>53.000000</td>\n",
       "      <td>52.170557</td>\n",
       "    </tr>\n",
       "    <tr>\n",
       "      <th>75%</th>\n",
       "      <td>73.000000</td>\n",
       "      <td>74.303007</td>\n",
       "    </tr>\n",
       "    <tr>\n",
       "      <th>max</th>\n",
       "      <td>100.000000</td>\n",
       "      <td>105.591837</td>\n",
       "    </tr>\n",
       "  </tbody>\n",
       "</table>\n",
       "</div>"
      ]
     },
     "metadata": {},
     "execution_count": 51
    }
   ],
   "metadata": {}
  },
  {
   "cell_type": "code",
   "execution_count": 15,
   "source": [
    "# Make sure the datatypes in the testing data are also correct\n",
    "test_df.dtypes"
   ],
   "outputs": [
    {
     "output_type": "execute_result",
     "data": {
      "text/plain": [
       "x      int64\n",
       "y    float64\n",
       "dtype: object"
      ]
     },
     "metadata": {},
     "execution_count": 15
    }
   ],
   "metadata": {}
  },
  {
   "cell_type": "markdown",
   "source": [
    "It seems that the x values for the testing data are all integers compared to the training data's x values which where floats."
   ],
   "metadata": {}
  },
  {
   "cell_type": "code",
   "execution_count": 16,
   "source": [
    "# Check the spread of the testing data's x values\n",
    "sns.stripplot(x=\"x\", data=test_df);"
   ],
   "outputs": [
    {
     "output_type": "display_data",
     "data": {
      "text/plain": [
       "<Figure size 432x288 with 1 Axes>"
      ],
      "image/png": "[encoded data removed]"
     },
     "metadata": {
      "needs_background": "light"
     }
    }
   ],
   "metadata": {}
  },
  {
   "cell_type": "code",
   "execution_count": 13,
   "source": [
    "# Check no missing values\n",
    "test_df.isnull().any()"
   ],
   "outputs": [
    {
     "output_type": "execute_result",
     "data": {
      "text/plain": [
       "x    False\n",
       "y    False\n",
       "dtype: bool"
      ]
     },
     "metadata": {},
     "execution_count": 13
    }
   ],
   "metadata": {}
  },
  {
   "cell_type": "markdown",
   "source": [
    "## Model Building Time"
   ],
   "metadata": {}
  },
  {
   "cell_type": "code",
   "execution_count": 24,
   "source": [
    "# Import the linear regression model from scikit learn which is the library I'll be using\n",
    "from sklearn.linear_model import LinearRegression"
   ],
   "outputs": [],
   "metadata": {}
  },
  {
   "cell_type": "code",
   "execution_count": 35,
   "source": [
    "# To make the using the data easier, create more intuitive variable names for testing and training features and targets\n",
    "X_train, y_train, X_test, y_test = train_df[[\"x\"]], train_df[\"y\"], test_df[[\"x\"]], test_df[\"y\"]"
   ],
   "outputs": [],
   "metadata": {}
  },
  {
   "cell_type": "code",
   "execution_count": 36,
   "source": [
    "# Check head of training features is correct\n",
    "X_train.head()"
   ],
   "outputs": [
    {
     "output_type": "execute_result",
     "data": {
      "text/plain": [
       "      x\n",
       "0  24.0\n",
       "1  50.0\n",
       "2  15.0\n",
       "3  38.0\n",
       "4  87.0"
      ],
      "text/html": [
       "<div>\n",
       "<style scoped>\n",
       "    .dataframe tbody tr th:only-of-type {\n",
       "        vertical-align: middle;\n",
       "    }\n",
       "\n",
       "    .dataframe tbody tr th {\n",
       "        vertical-align: top;\n",
       "    }\n",
       "\n",
       "    .dataframe thead th {\n",
       "        text-align: right;\n",
       "    }\n",
       "</style>\n",
       "<table border=\"1\" class=\"dataframe\">\n",
       "  <thead>\n",
       "    <tr style=\"text-align: right;\">\n",
       "      <th></th>\n",
       "      <th>x</th>\n",
       "    </tr>\n",
       "  </thead>\n",
       "  <tbody>\n",
       "    <tr>\n",
       "      <th>0</th>\n",
       "      <td>24.0</td>\n",
       "    </tr>\n",
       "    <tr>\n",
       "      <th>1</th>\n",
       "      <td>50.0</td>\n",
       "    </tr>\n",
       "    <tr>\n",
       "      <th>2</th>\n",
       "      <td>15.0</td>\n",
       "    </tr>\n",
       "    <tr>\n",
       "      <th>3</th>\n",
       "      <td>38.0</td>\n",
       "    </tr>\n",
       "    <tr>\n",
       "      <th>4</th>\n",
       "      <td>87.0</td>\n",
       "    </tr>\n",
       "  </tbody>\n",
       "</table>\n",
       "</div>"
      ]
     },
     "metadata": {},
     "execution_count": 36
    }
   ],
   "metadata": {}
  },
  {
   "cell_type": "code",
   "execution_count": 37,
   "source": [
    "# Check head of training targets is correct\n",
    "y_train.head()"
   ],
   "outputs": [
    {
     "output_type": "execute_result",
     "data": {
      "text/plain": [
       "0    21.549452\n",
       "1    47.464463\n",
       "2    17.218656\n",
       "3    36.586398\n",
       "4    87.288984\n",
       "Name: y, dtype: float64"
      ]
     },
     "metadata": {},
     "execution_count": 37
    }
   ],
   "metadata": {}
  },
  {
   "cell_type": "code",
   "execution_count": 38,
   "source": [
    "# Check head of testing features is correct\n",
    "X_test.head()"
   ],
   "outputs": [
    {
     "output_type": "execute_result",
     "data": {
      "text/plain": [
       "    x\n",
       "0  77\n",
       "1  21\n",
       "2  22\n",
       "3  20\n",
       "4  36"
      ],
      "text/html": [
       "<div>\n",
       "<style scoped>\n",
       "    .dataframe tbody tr th:only-of-type {\n",
       "        vertical-align: middle;\n",
       "    }\n",
       "\n",
       "    .dataframe tbody tr th {\n",
       "        vertical-align: top;\n",
       "    }\n",
       "\n",
       "    .dataframe thead th {\n",
       "        text-align: right;\n",
       "    }\n",
       "</style>\n",
       "<table border=\"1\" class=\"dataframe\">\n",
       "  <thead>\n",
       "    <tr style=\"text-align: right;\">\n",
       "      <th></th>\n",
       "      <th>x</th>\n",
       "    </tr>\n",
       "  </thead>\n",
       "  <tbody>\n",
       "    <tr>\n",
       "      <th>0</th>\n",
       "      <td>77</td>\n",
       "    </tr>\n",
       "    <tr>\n",
       "      <th>1</th>\n",
       "      <td>21</td>\n",
       "    </tr>\n",
       "    <tr>\n",
       "      <th>2</th>\n",
       "      <td>22</td>\n",
       "    </tr>\n",
       "    <tr>\n",
       "      <th>3</th>\n",
       "      <td>20</td>\n",
       "    </tr>\n",
       "    <tr>\n",
       "      <th>4</th>\n",
       "      <td>36</td>\n",
       "    </tr>\n",
       "  </tbody>\n",
       "</table>\n",
       "</div>"
      ]
     },
     "metadata": {},
     "execution_count": 38
    }
   ],
   "metadata": {}
  },
  {
   "cell_type": "code",
   "execution_count": 39,
   "source": [
    "# Check head of testing targets is correct\n",
    "y_test.head()"
   ],
   "outputs": [
    {
     "output_type": "execute_result",
     "data": {
      "text/plain": [
       "0    79.775152\n",
       "1    23.177279\n",
       "2    25.609262\n",
       "3    17.857388\n",
       "4    41.849864\n",
       "Name: y, dtype: float64"
      ]
     },
     "metadata": {},
     "execution_count": 39
    }
   ],
   "metadata": {}
  },
  {
   "cell_type": "code",
   "execution_count": 31,
   "source": [
    "# Create the linear regression model object\n",
    "model = LinearRegression()\n",
    "model"
   ],
   "outputs": [
    {
     "output_type": "execute_result",
     "data": {
      "text/plain": [
       "LinearRegression()"
      ]
     },
     "metadata": {},
     "execution_count": 31
    }
   ],
   "metadata": {}
  },
  {
   "cell_type": "code",
   "execution_count": 40,
   "source": [
    "# Fit (train) the model with the training features and training targets\n",
    "model.fit(X_train, y_train)"
   ],
   "outputs": [
    {
     "output_type": "execute_result",
     "data": {
      "text/plain": [
       "LinearRegression()"
      ]
     },
     "metadata": {},
     "execution_count": 40
    }
   ],
   "metadata": {}
  },
  {
   "cell_type": "code",
   "execution_count": 41,
   "source": [
    "# After the model has been trained, what is the coefficient of the regression model\n",
    "model.coef_"
   ],
   "outputs": [
    {
     "output_type": "execute_result",
     "data": {
      "text/plain": [
       "array([1.00065638])"
      ]
     },
     "metadata": {},
     "execution_count": 41
    }
   ],
   "metadata": {}
  },
  {
   "cell_type": "code",
   "execution_count": 42,
   "source": [
    "# What about the intercept?\n",
    "model.intercept_"
   ],
   "outputs": [
    {
     "output_type": "execute_result",
     "data": {
      "text/plain": [
       "-0.10726546430097272"
      ]
     },
     "metadata": {},
     "execution_count": 42
    }
   ],
   "metadata": {}
  },
  {
   "cell_type": "markdown",
   "source": [
    "Data's line of best fit according to the linear regression model: \n",
    "```\n",
    "y = 1.00065638x - 0.1072655\n",
    "```\n",
    "Which means that every time `x` increases by 1 unit, `y` increases by 1.00065638 units."
   ],
   "metadata": {}
  },
  {
   "cell_type": "markdown",
   "source": [
    "## Model Evaluation"
   ],
   "metadata": {}
  },
  {
   "cell_type": "code",
   "execution_count": 45,
   "source": [
    "# Import mean square error and R^2 metrics from scikit learn\n",
    "from sklearn.metrics import mean_squared_error, r2_score"
   ],
   "outputs": [],
   "metadata": {}
  },
  {
   "cell_type": "code",
   "execution_count": 49,
   "source": [
    "# To evaluate the model, we compare the predicted values that are outputted by the model when run on the testing features with the true values\n",
    "y_pred = model.predict(X_test)\n",
    "y_pred"
   ],
   "outputs": [
    {
     "output_type": "execute_result",
     "data": {
      "text/plain": [
       "array([76.94327594, 20.90651855, 21.90717494, 19.90586217, 35.91636428,\n",
       "       14.90258026, 61.93343021, 94.95509081, 19.90586217,  4.89601644,\n",
       "        3.89536006, 18.90520579, 95.95574719, 61.93343021, 35.91636428,\n",
       "       14.90258026, 64.93539936, 13.90192388, 86.94983976, 68.93802488,\n",
       "       88.95115252, 50.92621001, 88.95115252, 26.91045685, 96.95640358,\n",
       "       57.93080468, 78.9445887 , 20.90651855, 92.95377805, 26.91045685,\n",
       "       98.95771634, 30.91308237, 32.91439514, 79.94524508, 27.91111323,\n",
       "       46.92358448, 52.92752277, 68.93802488, 27.91111323, 32.91439514,\n",
       "       90.95246528, 70.93933765, 49.92555363, 75.94261956,  3.89536006,\n",
       "       36.91702066, 69.93868127, 67.9373685 , 39.91898981, 34.9157079 ,\n",
       "       93.95443443, 87.95049614, 51.92686639, 30.91308237, 58.93146107,\n",
       "       -0.10726546, 38.91833343, 63.93474297, 68.93802488, 56.9301483 ,\n",
       "       12.9012675 , 71.93999403, 75.94261956, 60.93277383, 81.94655785,\n",
       "       17.90454941, 40.91964619, 49.92555363, 54.92883554, 12.9012675 ,\n",
       "       45.9229281 , 12.9012675 , 78.9445887 , 52.92752277, 14.90258026,\n",
       "       27.91111323, 80.94590147, 68.93802488, 51.92686639, 83.94787061,\n",
       "       67.9373685 , 26.91045685, 55.92949192, 47.92424086, 39.91898981,\n",
       "       38.91833343, 81.94655785, 99.95837272, 58.93146107, 42.92095896,\n",
       "       66.93671212, 37.91767705, 62.93408659, 90.95246528, 59.93211745,\n",
       "       13.90192388, 20.90651855, 86.94983976, 72.94065041, 31.91373876,\n",
       "        1.8940473 , 81.94655785, 18.90520579, 73.94130679, 41.92030257,\n",
       "       11.90061112,  0.89339092, 89.9518089 , 88.95115252, -0.10726546,\n",
       "       40.91964619, 15.90323665, 93.95443443, 96.95640358, 65.93605574,\n",
       "       23.9084877 , 16.90389303, 89.9518089 , 12.9012675 , -0.10726546,\n",
       "       63.93474297, 95.95574719, 97.95705996, 11.90061112, 40.91964619,\n",
       "       46.92358448, 77.94393232, 19.90586217, 88.95115252, 28.91176961,\n",
       "       63.93474297, 74.94196317, 11.90061112, 24.90914408, 27.91111323,\n",
       "       29.91242599, 64.93539936, 58.93146107, 63.93474297, 52.92752277,\n",
       "       70.93933765, 96.95640358, 72.94065041,  8.89864197, 11.90061112,\n",
       "       62.93408659, 98.95771634, 59.93211745, 34.9157079 ,  1.8940473 ,\n",
       "       59.93211745, 31.91373876, 93.95443443, 83.94787061, 62.93408659,\n",
       "       21.90717494, 80.94590147, 92.95377805, 32.91439514,  6.89732921,\n",
       "       41.92030257, 45.9229281 , 53.92817916, 15.90323665, 48.92489725,\n",
       "       42.92095896, 94.95509081, 65.93605574, 20.90651855, 34.9157079 ,\n",
       "       79.94524508, 36.91702066, 53.92817916, 55.92949192,  0.89339092,\n",
       "       31.91373876, 57.93080468, 31.91373876, 45.9229281 , 71.93999403,\n",
       "       16.90389303, 96.95640358, 92.95377805, 90.95246528, 36.91702066,\n",
       "        3.89536006, 53.92817916, 50.92621001, 26.91045685, 45.9229281 ,\n",
       "       91.95312167, 72.94065041, 76.94327594, 90.95246528, 60.93277383,\n",
       "       98.95771634,  3.89536006, 71.93999403, 18.90520579, 56.9301483 ,\n",
       "       77.94393232, 25.90980046, 73.94130679, 89.9518089 , 65.93605574,\n",
       "       12.9012675 , 39.91898981, 76.94327594, 66.93671212, 74.94196317,\n",
       "       22.90783132, 44.92227172, 58.93146107, 43.92161534, 22.90783132,\n",
       "       54.92883554, 54.92883554, 94.95509081, 11.90061112,  3.89536006,\n",
       "        6.89732921, 99.95837272, 47.92424086, 41.92030257, 95.95574719,\n",
       "       38.91833343, 99.95837272, 86.94983976, 13.90192388, 13.90192388,\n",
       "       36.91702066,  4.89601644, 87.95049614, 90.95246528, 64.93539936,\n",
       "       73.94130679, 55.92949192, 15.90323665,  4.89601644, 27.91111323,\n",
       "       91.95312167, 45.9229281 , 53.92817916, 38.91833343, 43.92161534,\n",
       "       30.91308237, 67.9373685 , 85.94918338, 89.9518089 , 37.91767705,\n",
       "       20.90651855, 94.95509081, 55.92949192, 59.93211745, 64.93539936,\n",
       "       77.94393232, 88.95115252,  5.89667283, 66.93671212, 35.91636428,\n",
       "       15.90323665, 99.95837272, 44.92227172, 72.94065041, 56.9301483 ,\n",
       "       19.90586217, 75.94261956, 33.91505152, 54.92883554, 71.93999403,\n",
       "       54.92883554,  7.89798559, 55.92949192, 71.93999403, 57.93080468,\n",
       "        5.89667283, 95.95574719, 22.90783132, 57.93080468, 22.90783132,\n",
       "       18.90520579, 24.90914408, 63.93474297, 20.90651855, 58.93146107,\n",
       "       18.90520579, 15.90323665, 41.92030257, 42.92095896, 60.93277383,\n",
       "       91.95312167, 10.89995474, 40.91964619,  0.89339092,  7.89798559,\n",
       "       70.93933765, 45.9229281 , 54.92883554, 61.93343021, 46.92358448])"
      ]
     },
     "metadata": {},
     "execution_count": 49
    }
   ],
   "metadata": {}
  },
  {
   "cell_type": "code",
   "execution_count": 50,
   "source": [
    "# Find the mean squared error of the model's regression line\n",
    "mse = mean_squared_error(y_test, y_pred)\n",
    "mse"
   ],
   "outputs": [
    {
     "output_type": "execute_result",
     "data": {
      "text/plain": [
       "9.432922192039305"
      ]
     },
     "metadata": {},
     "execution_count": 50
    }
   ],
   "metadata": {}
  },
  {
   "cell_type": "code",
   "execution_count": 53,
   "source": [
    "# Find the R^2 coefficient of the model\n",
    "r2 = r2_score(y_test, y_pred)\n",
    "r2"
   ],
   "outputs": [
    {
     "output_type": "execute_result",
     "data": {
      "text/plain": [
       "0.9888014444327563"
      ]
     },
     "metadata": {},
     "execution_count": 53
    }
   ],
   "metadata": {}
  },
  {
   "cell_type": "code",
   "execution_count": null,
   "source": [],
   "outputs": [],
   "metadata": {}
  }
 ],
 "metadata": {
  "interpreter": {
   "hash": "5871f9ceaeb58903a062280df9e35c51c3f2838963fa6a6e83036660d9d47fa0"
  },
  "kernelspec": {
   "display_name": "Python 3.8.5 64-bit ('base': conda)",
   "name": "python3"
  },
  "language_info": {
   "codemirror_mode": {
    "name": "ipython",
    "version": 3
   },
   "file_extension": ".py",
   "mimetype": "text/x-python",
   "name": "python",
   "nbconvert_exporter": "python",
   "pygments_lexer": "ipython3",
   "version": "3.8.5"
  },
  "orig_nbformat": 4
 },
 "nbformat": 4,
 "nbformat_minor": 2
}